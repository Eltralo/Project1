{
 "cells": [
  {
   "cell_type": "code",
   "execution_count": 196,
   "metadata": {},
   "outputs": [],
   "source": [
    "import matplotlib.pyplot as plt\n",
    "import seaborn as sns\n",
    "import plotly.express as px\n",
    "import pandas as pd\n",
    "import numpy as np"
   ]
  },
  {
   "cell_type": "code",
   "execution_count": 197,
   "metadata": {},
   "outputs": [],
   "source": [
    "hh_data = pd.read_csv(\"C:\\Data_sets\\dst-3.0_16_1_hh_database.csv\",sep = ';')"
   ]
  },
  {
   "cell_type": "code",
   "execution_count": 198,
   "metadata": {},
   "outputs": [],
   "source": [
    "hh_df = hh_data.copy()"
   ]
  },
  {
   "cell_type": "markdown",
   "metadata": {},
   "source": [
    "Рассмотрим размерность таблицы:"
   ]
  },
  {
   "cell_type": "code",
   "execution_count": 199,
   "metadata": {},
   "outputs": [
    {
     "data": {
      "text/plain": [
       "(44744, 12)"
      ]
     },
     "execution_count": 199,
     "metadata": {},
     "output_type": "execute_result"
    }
   ],
   "source": [
    "hh_df.shape"
   ]
  },
  {
   "cell_type": "code",
   "execution_count": 200,
   "metadata": {},
   "outputs": [
    {
     "data": {
      "text/html": [
       "<div>\n",
       "<style scoped>\n",
       "    .dataframe tbody tr th:only-of-type {\n",
       "        vertical-align: middle;\n",
       "    }\n",
       "\n",
       "    .dataframe tbody tr th {\n",
       "        vertical-align: top;\n",
       "    }\n",
       "\n",
       "    .dataframe thead th {\n",
       "        text-align: right;\n",
       "    }\n",
       "</style>\n",
       "<table border=\"1\" class=\"dataframe\">\n",
       "  <thead>\n",
       "    <tr style=\"text-align: right;\">\n",
       "      <th></th>\n",
       "      <th>Пол, возраст</th>\n",
       "      <th>ЗП</th>\n",
       "      <th>Ищет работу на должность:</th>\n",
       "      <th>Город, переезд, командировки</th>\n",
       "      <th>Занятость</th>\n",
       "      <th>График</th>\n",
       "      <th>Опыт работы</th>\n",
       "      <th>Последнее/нынешнее место работы</th>\n",
       "      <th>Последняя/нынешняя должность</th>\n",
       "      <th>Образование и ВУЗ</th>\n",
       "      <th>Обновление резюме</th>\n",
       "      <th>Авто</th>\n",
       "    </tr>\n",
       "  </thead>\n",
       "  <tbody>\n",
       "    <tr>\n",
       "      <th>0</th>\n",
       "      <td>Мужчина ,  39 лет , родился 27 ноября 1979</td>\n",
       "      <td>29000 руб.</td>\n",
       "      <td>Системный администратор</td>\n",
       "      <td>Советск (Калининградская область) , не готов к...</td>\n",
       "      <td>частичная занятость, проектная работа, полная ...</td>\n",
       "      <td>гибкий график, полный день, сменный график, ва...</td>\n",
       "      <td>Опыт работы 16 лет 10 месяцев  Август 2010 — п...</td>\n",
       "      <td>МАОУ \"СОШ № 1 г.Немана\"</td>\n",
       "      <td>Системный администратор</td>\n",
       "      <td>Неоконченное высшее образование 2000  Балтийск...</td>\n",
       "      <td>16.04.2019 15:59</td>\n",
       "      <td>Имеется собственный автомобиль</td>\n",
       "    </tr>\n",
       "    <tr>\n",
       "      <th>1</th>\n",
       "      <td>Мужчина ,  60 лет , родился 20 марта 1959</td>\n",
       "      <td>40000 руб.</td>\n",
       "      <td>Технический писатель</td>\n",
       "      <td>Королев , не готов к переезду , готов к редким...</td>\n",
       "      <td>частичная занятость, проектная работа, полная ...</td>\n",
       "      <td>гибкий график, полный день, сменный график, уд...</td>\n",
       "      <td>Опыт работы 19 лет 5 месяцев  Январь 2000 — по...</td>\n",
       "      <td>Временный трудовой коллектив</td>\n",
       "      <td>Менеджер проекта, Аналитик, Технический писатель</td>\n",
       "      <td>Высшее образование 1981  Военно-космическая ак...</td>\n",
       "      <td>12.04.2019 08:42</td>\n",
       "      <td>Не указано</td>\n",
       "    </tr>\n",
       "    <tr>\n",
       "      <th>2</th>\n",
       "      <td>Женщина ,  36 лет , родилась 12 августа 1982</td>\n",
       "      <td>20000 руб.</td>\n",
       "      <td>Оператор</td>\n",
       "      <td>Тверь , не готова к переезду , не готова к ком...</td>\n",
       "      <td>полная занятость</td>\n",
       "      <td>полный день</td>\n",
       "      <td>Опыт работы 10 лет 3 месяца  Октябрь 2004 — Де...</td>\n",
       "      <td>ПАО Сбербанк</td>\n",
       "      <td>Кассир-операционист</td>\n",
       "      <td>Среднее специальное образование 2002 Профессио...</td>\n",
       "      <td>16.04.2019 08:35</td>\n",
       "      <td>Не указано</td>\n",
       "    </tr>\n",
       "    <tr>\n",
       "      <th>3</th>\n",
       "      <td>Мужчина ,  38 лет , родился 25 июня 1980</td>\n",
       "      <td>100000 руб.</td>\n",
       "      <td>Веб-разработчик (HTML / CSS / JS / PHP / базы ...</td>\n",
       "      <td>Саратов , не готов к переезду , готов к редким...</td>\n",
       "      <td>частичная занятость, проектная работа, полная ...</td>\n",
       "      <td>гибкий график, удаленная работа</td>\n",
       "      <td>Опыт работы 18 лет 9 месяцев  Август 2017 — Ап...</td>\n",
       "      <td>OpenSoft</td>\n",
       "      <td>Инженер-программист</td>\n",
       "      <td>Высшее образование 2002  Саратовский государст...</td>\n",
       "      <td>08.04.2019 14:23</td>\n",
       "      <td>Не указано</td>\n",
       "    </tr>\n",
       "    <tr>\n",
       "      <th>4</th>\n",
       "      <td>Женщина ,  26 лет , родилась 3 марта 1993</td>\n",
       "      <td>140000 руб.</td>\n",
       "      <td>Региональный менеджер по продажам</td>\n",
       "      <td>Москва , не готова к переезду , готова к коман...</td>\n",
       "      <td>полная занятость</td>\n",
       "      <td>полный день</td>\n",
       "      <td>Опыт работы 5 лет 7 месяцев  Региональный мене...</td>\n",
       "      <td>Мармелад</td>\n",
       "      <td>Менеджер по продажам</td>\n",
       "      <td>Высшее образование 2015 Кгу Психологии и педаг...</td>\n",
       "      <td>22.04.2019 10:32</td>\n",
       "      <td>Не указано</td>\n",
       "    </tr>\n",
       "  </tbody>\n",
       "</table>\n",
       "</div>"
      ],
      "text/plain": [
       "                                   Пол, возраст           ЗП  \\\n",
       "0    Мужчина ,  39 лет , родился 27 ноября 1979   29000 руб.   \n",
       "1     Мужчина ,  60 лет , родился 20 марта 1959   40000 руб.   \n",
       "2  Женщина ,  36 лет , родилась 12 августа 1982   20000 руб.   \n",
       "3      Мужчина ,  38 лет , родился 25 июня 1980  100000 руб.   \n",
       "4     Женщина ,  26 лет , родилась 3 марта 1993  140000 руб.   \n",
       "\n",
       "                           Ищет работу на должность:  \\\n",
       "0                            Системный администратор   \n",
       "1                               Технический писатель   \n",
       "2                                           Оператор   \n",
       "3  Веб-разработчик (HTML / CSS / JS / PHP / базы ...   \n",
       "4                  Региональный менеджер по продажам   \n",
       "\n",
       "                        Город, переезд, командировки  \\\n",
       "0  Советск (Калининградская область) , не готов к...   \n",
       "1  Королев , не готов к переезду , готов к редким...   \n",
       "2  Тверь , не готова к переезду , не готова к ком...   \n",
       "3  Саратов , не готов к переезду , готов к редким...   \n",
       "4  Москва , не готова к переезду , готова к коман...   \n",
       "\n",
       "                                           Занятость  \\\n",
       "0  частичная занятость, проектная работа, полная ...   \n",
       "1  частичная занятость, проектная работа, полная ...   \n",
       "2                                   полная занятость   \n",
       "3  частичная занятость, проектная работа, полная ...   \n",
       "4                                   полная занятость   \n",
       "\n",
       "                                              График  \\\n",
       "0  гибкий график, полный день, сменный график, ва...   \n",
       "1  гибкий график, полный день, сменный график, уд...   \n",
       "2                                        полный день   \n",
       "3                    гибкий график, удаленная работа   \n",
       "4                                        полный день   \n",
       "\n",
       "                                         Опыт работы  \\\n",
       "0  Опыт работы 16 лет 10 месяцев  Август 2010 — п...   \n",
       "1  Опыт работы 19 лет 5 месяцев  Январь 2000 — по...   \n",
       "2  Опыт работы 10 лет 3 месяца  Октябрь 2004 — Де...   \n",
       "3  Опыт работы 18 лет 9 месяцев  Август 2017 — Ап...   \n",
       "4  Опыт работы 5 лет 7 месяцев  Региональный мене...   \n",
       "\n",
       "  Последнее/нынешнее место работы  \\\n",
       "0         МАОУ \"СОШ № 1 г.Немана\"   \n",
       "1    Временный трудовой коллектив   \n",
       "2                    ПАО Сбербанк   \n",
       "3                        OpenSoft   \n",
       "4                        Мармелад   \n",
       "\n",
       "                       Последняя/нынешняя должность  \\\n",
       "0                           Системный администратор   \n",
       "1  Менеджер проекта, Аналитик, Технический писатель   \n",
       "2                               Кассир-операционист   \n",
       "3                               Инженер-программист   \n",
       "4                              Менеджер по продажам   \n",
       "\n",
       "                                   Образование и ВУЗ Обновление резюме  \\\n",
       "0  Неоконченное высшее образование 2000  Балтийск...  16.04.2019 15:59   \n",
       "1  Высшее образование 1981  Военно-космическая ак...  12.04.2019 08:42   \n",
       "2  Среднее специальное образование 2002 Профессио...  16.04.2019 08:35   \n",
       "3  Высшее образование 2002  Саратовский государст...  08.04.2019 14:23   \n",
       "4  Высшее образование 2015 Кгу Психологии и педаг...  22.04.2019 10:32   \n",
       "\n",
       "                             Авто  \n",
       "0  Имеется собственный автомобиль  \n",
       "1                      Не указано  \n",
       "2                      Не указано  \n",
       "3                      Не указано  \n",
       "4                      Не указано  "
      ]
     },
     "execution_count": 200,
     "metadata": {},
     "output_type": "execute_result"
    }
   ],
   "source": [
    "hh_df.head()"
   ]
  },
  {
   "cell_type": "code",
   "execution_count": 201,
   "metadata": {},
   "outputs": [
    {
     "name": "stdout",
     "output_type": "stream",
     "text": [
      "<class 'pandas.core.frame.DataFrame'>\n",
      "RangeIndex: 44744 entries, 0 to 44743\n",
      "Data columns (total 12 columns):\n",
      " #   Column                           Non-Null Count  Dtype \n",
      "---  ------                           --------------  ----- \n",
      " 0   Пол, возраст                     44744 non-null  object\n",
      " 1   ЗП                               44744 non-null  object\n",
      " 2   Ищет работу на должность:        44744 non-null  object\n",
      " 3   Город, переезд, командировки     44744 non-null  object\n",
      " 4   Занятость                        44744 non-null  object\n",
      " 5   График                           44744 non-null  object\n",
      " 6   Опыт работы                      44576 non-null  object\n",
      " 7   Последнее/нынешнее место работы  44743 non-null  object\n",
      " 8   Последняя/нынешняя должность     44742 non-null  object\n",
      " 9   Образование и ВУЗ                44744 non-null  object\n",
      " 10  Обновление резюме                44744 non-null  object\n",
      " 11  Авто                             44744 non-null  object\n",
      "dtypes: object(12)\n",
      "memory usage: 4.1+ MB\n"
     ]
    }
   ],
   "source": [
    "hh_df.info()"
   ]
  },
  {
   "cell_type": "code",
   "execution_count": 202,
   "metadata": {},
   "outputs": [
    {
     "data": {
      "text/plain": [
       "Пол, возраст                         0\n",
       "ЗП                                   0\n",
       "Ищет работу на должность:            0\n",
       "Город, переезд, командировки         0\n",
       "Занятость                            0\n",
       "График                               0\n",
       "Опыт работы                        168\n",
       "Последнее/нынешнее место работы      1\n",
       "Последняя/нынешняя должность         2\n",
       "Образование и ВУЗ                    0\n",
       "Обновление резюме                    0\n",
       "Авто                                 0\n",
       "dtype: int64"
      ]
     },
     "execution_count": 202,
     "metadata": {},
     "output_type": "execute_result"
    }
   ],
   "source": [
    "hh_df.isnull().sum()"
   ]
  },
  {
   "cell_type": "code",
   "execution_count": 203,
   "metadata": {},
   "outputs": [
    {
     "data": {
      "text/plain": [
       "44413"
      ]
     },
     "execution_count": 203,
     "metadata": {},
     "output_type": "execute_result"
    }
   ],
   "source": [
    "hh_df['Опыт работы'].nunique()"
   ]
  },
  {
   "cell_type": "code",
   "execution_count": 204,
   "metadata": {},
   "outputs": [
    {
     "data": {
      "text/plain": [
       "0    Системный администратор\n",
       "Name: Ищет работу на должность:, dtype: object"
      ]
     },
     "execution_count": 204,
     "metadata": {},
     "output_type": "execute_result"
    }
   ],
   "source": [
    "hh_df['Ищет работу на должность:'].mode()"
   ]
  },
  {
   "cell_type": "code",
   "execution_count": 205,
   "metadata": {},
   "outputs": [],
   "source": [
    "def get_education(arg):\n",
    "    arg = ' '.join(arg.split(' ')[:3])\n",
    "    if 'Высшее образование' in arg:\n",
    "        return 'высшее'\n",
    "    elif 'Неоконченное высшее' in arg:\n",
    "        return 'неоконченное высшее'\n",
    "    elif 'Среднее специальное' in arg:\n",
    "        return 'среднее специальное'\n",
    "    elif 'Среднее образование' in arg:\n",
    "        return 'среднее'"
   ]
  },
  {
   "cell_type": "code",
   "execution_count": 206,
   "metadata": {},
   "outputs": [],
   "source": [
    "hh_df['Образование']=hh_df['Образование и ВУЗ'].apply(get_education)"
   ]
  },
  {
   "cell_type": "code",
   "execution_count": 207,
   "metadata": {},
   "outputs": [
    {
     "data": {
      "text/plain": [
       "Образование\n",
       "высшее                 33863\n",
       "среднее специальное     5765\n",
       "неоконченное высшее     4557\n",
       "среднее                  559\n",
       "Name: count, dtype: int64"
      ]
     },
     "execution_count": 207,
     "metadata": {},
     "output_type": "execute_result"
    }
   ],
   "source": [
    "hh_df['Образование'].value_counts()"
   ]
  },
  {
   "cell_type": "markdown",
   "metadata": {},
   "source": [
    "Обратите внимание на структуру текста в столбце «Образование и ВУЗ». Гарантируется, что текущий уровень образования соискателя всегда отражён в первых трёх словах и начинается с заглавной буквы. Воспользуйтесь этим."
   ]
  },
  {
   "cell_type": "markdown",
   "metadata": {},
   "source": [
    "Создайте два новых признака «Пол» и «Возраст». При этом важно учесть:\n",
    "\n",
    "Признак пола должен иметь два уникальных строковых значения: М — мужчина, Ж — женщина.\n",
    "Признак возраста должен быть представлен целыми числами."
   ]
  },
  {
   "cell_type": "code",
   "execution_count": 208,
   "metadata": {},
   "outputs": [
    {
     "data": {
      "text/plain": [
       "0        39\n",
       "1        60\n",
       "2        36\n",
       "3        38\n",
       "4        26\n",
       "         ..\n",
       "44739    30\n",
       "44740    27\n",
       "44741    48\n",
       "44742    24\n",
       "44743    38\n",
       "Name: Возраст, Length: 44744, dtype: int64"
      ]
     },
     "execution_count": 208,
     "metadata": {},
     "output_type": "execute_result"
    }
   ],
   "source": [
    "hh_df['Пол'] = hh_df['Пол, возраст'].apply(lambda x: 'М' if 'Мужчина' in x  else 'Ж')\n",
    "def get_age(age):\n",
    "    age_list=age.split(' ')\n",
    "    age_list = age_list[3]\n",
    "    return age_list\n",
    "hh_df['Возраст'] = hh_df['Пол, возраст'].apply(get_age)\n",
    "hh_df['Возраст'].astype('int64')"
   ]
  },
  {
   "cell_type": "code",
   "execution_count": 209,
   "metadata": {},
   "outputs": [],
   "source": [
    "hh_df = hh_df.drop(columns=['Пол, возраст','Образование и ВУЗ' ])"
   ]
  },
  {
   "cell_type": "code",
   "execution_count": 210,
   "metadata": {},
   "outputs": [
    {
     "data": {
      "text/plain": [
       "Пол\n",
       "М    0.809293\n",
       "Ж    0.190707\n",
       "Name: proportion, dtype: float64"
      ]
     },
     "execution_count": 210,
     "metadata": {},
     "output_type": "execute_result"
    }
   ],
   "source": [
    "hh_df['Пол'].value_counts(normalize=True)"
   ]
  },
  {
   "cell_type": "code",
   "execution_count": 211,
   "metadata": {},
   "outputs": [
    {
     "data": {
      "text/plain": [
       "32.19674146254246"
      ]
     },
     "execution_count": 211,
     "metadata": {},
     "output_type": "execute_result"
    }
   ],
   "source": [
    "hh_df['Возраст'].astype('int64').mean()"
   ]
  },
  {
   "cell_type": "code",
   "execution_count": 212,
   "metadata": {},
   "outputs": [],
   "source": [
    "def exp_work(arg):\n",
    "    years = 0\n",
    "    months = 0\n",
    "    month_list= ['месяц', 'месяца','месяцев']\n",
    "    year_list = ['год', 'года', 'лет']\n",
    "    if arg is np.nan or arg == 'Не указано':\n",
    "        return None\n",
    "    arg_split = arg.split(' ')[:7]\n",
    "    for index,item  in enumerate(arg_split):\n",
    "        if item in year_list:\n",
    "            years = int(arg_split[index-1])\n",
    "        if item in month_list:\n",
    "            months = int(arg_split[index-1])\n",
    "    return int(years*12+months)\n",
    "hh_df['Опыт']=hh_df['Опыт работы'].apply(exp_work)"
   ]
  },
  {
   "cell_type": "code",
   "execution_count": 213,
   "metadata": {},
   "outputs": [
    {
     "data": {
      "text/html": [
       "<div>\n",
       "<style scoped>\n",
       "    .dataframe tbody tr th:only-of-type {\n",
       "        vertical-align: middle;\n",
       "    }\n",
       "\n",
       "    .dataframe tbody tr th {\n",
       "        vertical-align: top;\n",
       "    }\n",
       "\n",
       "    .dataframe thead th {\n",
       "        text-align: right;\n",
       "    }\n",
       "</style>\n",
       "<table border=\"1\" class=\"dataframe\">\n",
       "  <thead>\n",
       "    <tr style=\"text-align: right;\">\n",
       "      <th></th>\n",
       "      <th>ЗП</th>\n",
       "      <th>Ищет работу на должность:</th>\n",
       "      <th>Город, переезд, командировки</th>\n",
       "      <th>Занятость</th>\n",
       "      <th>График</th>\n",
       "      <th>Опыт работы</th>\n",
       "      <th>Последнее/нынешнее место работы</th>\n",
       "      <th>Последняя/нынешняя должность</th>\n",
       "      <th>Обновление резюме</th>\n",
       "      <th>Авто</th>\n",
       "      <th>Образование</th>\n",
       "      <th>Пол</th>\n",
       "      <th>Возраст</th>\n",
       "      <th>Опыт</th>\n",
       "    </tr>\n",
       "  </thead>\n",
       "  <tbody>\n",
       "    <tr>\n",
       "      <th>0</th>\n",
       "      <td>29000 руб.</td>\n",
       "      <td>Системный администратор</td>\n",
       "      <td>Советск (Калининградская область) , не готов к...</td>\n",
       "      <td>частичная занятость, проектная работа, полная ...</td>\n",
       "      <td>гибкий график, полный день, сменный график, ва...</td>\n",
       "      <td>Опыт работы 16 лет 10 месяцев  Август 2010 — п...</td>\n",
       "      <td>МАОУ \"СОШ № 1 г.Немана\"</td>\n",
       "      <td>Системный администратор</td>\n",
       "      <td>16.04.2019 15:59</td>\n",
       "      <td>Имеется собственный автомобиль</td>\n",
       "      <td>неоконченное высшее</td>\n",
       "      <td>М</td>\n",
       "      <td>39</td>\n",
       "      <td>202.0</td>\n",
       "    </tr>\n",
       "    <tr>\n",
       "      <th>1</th>\n",
       "      <td>40000 руб.</td>\n",
       "      <td>Технический писатель</td>\n",
       "      <td>Королев , не готов к переезду , готов к редким...</td>\n",
       "      <td>частичная занятость, проектная работа, полная ...</td>\n",
       "      <td>гибкий график, полный день, сменный график, уд...</td>\n",
       "      <td>Опыт работы 19 лет 5 месяцев  Январь 2000 — по...</td>\n",
       "      <td>Временный трудовой коллектив</td>\n",
       "      <td>Менеджер проекта, Аналитик, Технический писатель</td>\n",
       "      <td>12.04.2019 08:42</td>\n",
       "      <td>Не указано</td>\n",
       "      <td>высшее</td>\n",
       "      <td>М</td>\n",
       "      <td>60</td>\n",
       "      <td>233.0</td>\n",
       "    </tr>\n",
       "    <tr>\n",
       "      <th>2</th>\n",
       "      <td>20000 руб.</td>\n",
       "      <td>Оператор</td>\n",
       "      <td>Тверь , не готова к переезду , не готова к ком...</td>\n",
       "      <td>полная занятость</td>\n",
       "      <td>полный день</td>\n",
       "      <td>Опыт работы 10 лет 3 месяца  Октябрь 2004 — Де...</td>\n",
       "      <td>ПАО Сбербанк</td>\n",
       "      <td>Кассир-операционист</td>\n",
       "      <td>16.04.2019 08:35</td>\n",
       "      <td>Не указано</td>\n",
       "      <td>среднее специальное</td>\n",
       "      <td>Ж</td>\n",
       "      <td>36</td>\n",
       "      <td>123.0</td>\n",
       "    </tr>\n",
       "    <tr>\n",
       "      <th>3</th>\n",
       "      <td>100000 руб.</td>\n",
       "      <td>Веб-разработчик (HTML / CSS / JS / PHP / базы ...</td>\n",
       "      <td>Саратов , не готов к переезду , готов к редким...</td>\n",
       "      <td>частичная занятость, проектная работа, полная ...</td>\n",
       "      <td>гибкий график, удаленная работа</td>\n",
       "      <td>Опыт работы 18 лет 9 месяцев  Август 2017 — Ап...</td>\n",
       "      <td>OpenSoft</td>\n",
       "      <td>Инженер-программист</td>\n",
       "      <td>08.04.2019 14:23</td>\n",
       "      <td>Не указано</td>\n",
       "      <td>высшее</td>\n",
       "      <td>М</td>\n",
       "      <td>38</td>\n",
       "      <td>225.0</td>\n",
       "    </tr>\n",
       "    <tr>\n",
       "      <th>4</th>\n",
       "      <td>140000 руб.</td>\n",
       "      <td>Региональный менеджер по продажам</td>\n",
       "      <td>Москва , не готова к переезду , готова к коман...</td>\n",
       "      <td>полная занятость</td>\n",
       "      <td>полный день</td>\n",
       "      <td>Опыт работы 5 лет 7 месяцев  Региональный мене...</td>\n",
       "      <td>Мармелад</td>\n",
       "      <td>Менеджер по продажам</td>\n",
       "      <td>22.04.2019 10:32</td>\n",
       "      <td>Не указано</td>\n",
       "      <td>высшее</td>\n",
       "      <td>Ж</td>\n",
       "      <td>26</td>\n",
       "      <td>67.0</td>\n",
       "    </tr>\n",
       "  </tbody>\n",
       "</table>\n",
       "</div>"
      ],
      "text/plain": [
       "            ЗП                          Ищет работу на должность:  \\\n",
       "0   29000 руб.                            Системный администратор   \n",
       "1   40000 руб.                               Технический писатель   \n",
       "2   20000 руб.                                           Оператор   \n",
       "3  100000 руб.  Веб-разработчик (HTML / CSS / JS / PHP / базы ...   \n",
       "4  140000 руб.                  Региональный менеджер по продажам   \n",
       "\n",
       "                        Город, переезд, командировки  \\\n",
       "0  Советск (Калининградская область) , не готов к...   \n",
       "1  Королев , не готов к переезду , готов к редким...   \n",
       "2  Тверь , не готова к переезду , не готова к ком...   \n",
       "3  Саратов , не готов к переезду , готов к редким...   \n",
       "4  Москва , не готова к переезду , готова к коман...   \n",
       "\n",
       "                                           Занятость  \\\n",
       "0  частичная занятость, проектная работа, полная ...   \n",
       "1  частичная занятость, проектная работа, полная ...   \n",
       "2                                   полная занятость   \n",
       "3  частичная занятость, проектная работа, полная ...   \n",
       "4                                   полная занятость   \n",
       "\n",
       "                                              График  \\\n",
       "0  гибкий график, полный день, сменный график, ва...   \n",
       "1  гибкий график, полный день, сменный график, уд...   \n",
       "2                                        полный день   \n",
       "3                    гибкий график, удаленная работа   \n",
       "4                                        полный день   \n",
       "\n",
       "                                         Опыт работы  \\\n",
       "0  Опыт работы 16 лет 10 месяцев  Август 2010 — п...   \n",
       "1  Опыт работы 19 лет 5 месяцев  Январь 2000 — по...   \n",
       "2  Опыт работы 10 лет 3 месяца  Октябрь 2004 — Де...   \n",
       "3  Опыт работы 18 лет 9 месяцев  Август 2017 — Ап...   \n",
       "4  Опыт работы 5 лет 7 месяцев  Региональный мене...   \n",
       "\n",
       "  Последнее/нынешнее место работы  \\\n",
       "0         МАОУ \"СОШ № 1 г.Немана\"   \n",
       "1    Временный трудовой коллектив   \n",
       "2                    ПАО Сбербанк   \n",
       "3                        OpenSoft   \n",
       "4                        Мармелад   \n",
       "\n",
       "                       Последняя/нынешняя должность Обновление резюме  \\\n",
       "0                           Системный администратор  16.04.2019 15:59   \n",
       "1  Менеджер проекта, Аналитик, Технический писатель  12.04.2019 08:42   \n",
       "2                               Кассир-операционист  16.04.2019 08:35   \n",
       "3                               Инженер-программист  08.04.2019 14:23   \n",
       "4                              Менеджер по продажам  22.04.2019 10:32   \n",
       "\n",
       "                             Авто          Образование Пол Возраст   Опыт  \n",
       "0  Имеется собственный автомобиль  неоконченное высшее   М      39  202.0  \n",
       "1                      Не указано               высшее   М      60  233.0  \n",
       "2                      Не указано  среднее специальное   Ж      36  123.0  \n",
       "3                      Не указано               высшее   М      38  225.0  \n",
       "4                      Не указано               высшее   Ж      26   67.0  "
      ]
     },
     "execution_count": 213,
     "metadata": {},
     "output_type": "execute_result"
    }
   ],
   "source": [
    "hh_df.head()"
   ]
  },
  {
   "cell_type": "code",
   "execution_count": 214,
   "metadata": {},
   "outputs": [
    {
     "data": {
      "text/plain": [
       "100.0"
      ]
     },
     "execution_count": 214,
     "metadata": {},
     "output_type": "execute_result"
    }
   ],
   "source": [
    "hh_df['Опыт'].median()"
   ]
  },
  {
   "cell_type": "code",
   "execution_count": 215,
   "metadata": {},
   "outputs": [],
   "source": [
    "x = ['Москва','Санкт-Петербург']\n",
    "million_cities = ['Новосибирск', 'Екатеринбург', 'Нижний Новгород', 'Казань', 'Челябинск', 'Омск', 'Самара', 'Ростов-на-Дону', 'Уфа', 'Красноярск', 'Пермь', 'Воронеж', 'Волгоград' ]"
   ]
  },
  {
   "cell_type": "code",
   "execution_count": 216,
   "metadata": {},
   "outputs": [],
   "source": [
    "def get_city(arg):\n",
    "    arg_split = arg.split(' ')[0]\n",
    "    x = ['Москва','Санкт-Петербург']\n",
    "    million_cities = ['Новосибирск', 'Екатеринбург', 'Нижний Новгород', 'Казань', 'Челябинск', 'Омск', 'Самара', 'Ростов-на-Дону', 'Уфа', 'Красноярск', 'Пермь', 'Воронеж', 'Волгоград' ]\n",
    "    if arg_split in x:\n",
    "        return arg_split\n",
    "    elif arg_split in million_cities:\n",
    "        return 'город-миллионник'\n",
    "    else:\n",
    "        return 'другие'\n",
    "def get_ready_to_move(arg):\n",
    "    if ('не готов к переезду' in arg) or ('не готова к переезду' in arg):\n",
    "        return False\n",
    "    elif 'хочу' in arg:\n",
    "        return True\n",
    "    else:\n",
    "        return True\n",
    "    \n",
    "def get_ready_for_bisiness_trips(arg):\n",
    "    if ('командировка' in arg):\n",
    "        if ('не готов к командировкам' in arg) or('не готова к командировкам' in arg):\n",
    "            return False\n",
    "        else: \n",
    "            \n",
    "            return True\n",
    "    else:\n",
    "        return False   \n",
    "hh_df['Город']=hh_df['Город, переезд, командировки'].apply(get_city)\n",
    "hh_df['Город'].value_counts(normalize='True')\n",
    "hh_df['Переезд']=hh_df['Город, переезд, командировки'].apply(get_ready_to_move)\n",
    "hh_df['Командировки']=hh_df['Город, переезд, командировки'].apply(get_ready_for_bisiness_trips)\n"
   ]
  },
  {
   "cell_type": "code",
   "execution_count": 217,
   "metadata": {},
   "outputs": [
    {
     "name": "stdout",
     "output_type": "stream",
     "text": [
      "0.3186572501340962\n",
      "32\n"
     ]
    }
   ],
   "source": [
    "mask1 = hh_df['Командировки'] == True \n",
    "mask2 = hh_df['Переезд'] == True\n",
    "a = hh_df[mask1 & mask2].shape[0]\n",
    "b =hh_df.shape[0]\n",
    "print(a/b)\n",
    "print(round(hh_df[\n",
    "    hh_df['Переезд'] & hh_df['Командировки']\n",
    "].shape[0] / hh_df.shape[0] *100))\n",
    "\n"
   ]
  },
  {
   "cell_type": "code",
   "execution_count": 218,
   "metadata": {},
   "outputs": [],
   "source": [
    "hh_df.drop([\"Город, переезд, командировки\"], axis = 1, inplace = True)\n",
    "   "
   ]
  },
  {
   "cell_type": "code",
   "execution_count": 219,
   "metadata": {},
   "outputs": [
    {
     "name": "stdout",
     "output_type": "stream",
     "text": [
      "['гибкий график', 'полный день', 'сменный график', 'вахтовый метод', 'удаленная работа']\n",
      "['проектная работа', 'стажировка', 'волонтерство', 'частичная занятость', 'полная занятость']\n"
     ]
    }
   ],
   "source": [
    "full_metrics1 = sorted(hh_df['График'].unique(), key=lambda x: len(x), reverse=True)[0].split(', ')\n",
    "full_metrics2 = hh_df['Занятость'].value_counts().sort_index(key=lambda x: x.str.len(), ascending=False).index[0].split(', ')\n",
    "print(full_metrics1)\n",
    "print(full_metrics2)"
   ]
  },
  {
   "cell_type": "code",
   "execution_count": 220,
   "metadata": {},
   "outputs": [],
   "source": [
    "\n",
    "for cat in full_metrics2:\n",
    "    hh_df[cat] = hh_df['Занятость'].apply(lambda x: cat in x)\n",
    "tt  = ['гибкий график', 'полный день', 'сменный график', 'вахтовый метод', 'удаленная работа']\n",
    "for cat in full_metrics1:\n",
    "    hh_df[cat]=hh_df['График'].apply(lambda x: cat in x)\n"
   ]
  },
  {
   "cell_type": "code",
   "execution_count": 221,
   "metadata": {},
   "outputs": [
    {
     "data": {
      "text/plain": [
       "<bound method IndexOpsMixin.tolist of Index(['ЗП', 'Ищет работу на должность:', 'Занятость', 'График', 'Опыт работы',\n",
       "       'Последнее/нынешнее место работы', 'Последняя/нынешняя должность',\n",
       "       'Обновление резюме', 'Авто', 'Образование', 'Пол', 'Возраст', 'Опыт',\n",
       "       'Город', 'Переезд', 'Командировки', 'проектная работа', 'стажировка',\n",
       "       'волонтерство', 'частичная занятость', 'полная занятость',\n",
       "       'гибкий график', 'полный день', 'сменный график', 'вахтовый метод',\n",
       "       'удаленная работа'],\n",
       "      dtype='object')>"
      ]
     },
     "execution_count": 221,
     "metadata": {},
     "output_type": "execute_result"
    }
   ],
   "source": [
    "hh_df.columns.to_list"
   ]
  },
  {
   "cell_type": "code",
   "execution_count": 222,
   "metadata": {},
   "outputs": [
    {
     "name": "stdout",
     "output_type": "stream",
     "text": [
      "436\n"
     ]
    }
   ],
   "source": [
    "hh_df.head()\n",
    "mask1 = hh_df['проектная работа']== True\n",
    "mask2 = hh_df['волонтерство'] == True\n",
    "col = hh_df[mask1 & mask2].shape[0]\n",
    "print(col)"
   ]
  },
  {
   "cell_type": "code",
   "execution_count": 223,
   "metadata": {},
   "outputs": [
    {
     "data": {
      "text/plain": [
       "2311"
      ]
     },
     "metadata": {},
     "output_type": "display_data"
    }
   ],
   "source": [
    "mask1 = hh_df['вахтовый метод'] == True\n",
    "mask2 = hh_df['гибкий график'] == True\n",
    "display(hh_df[mask1 & mask2].shape[0])"
   ]
  },
  {
   "cell_type": "markdown",
   "metadata": {},
   "source": [
    "Наконец, мы добрались до самого главного — признака заработной платы «ЗП». \n",
    "\n",
    "В чём наша проблема? — В том, что помимо желаемой заработной платы соискатель указывает валюту, в которой он хотел бы её получать.Поэтому просто обратимся к профильным интернет-ресурсам для получения данных о курсе в виде текстовых файлов. Например, MFD.RU: данный ресурс позволяет удобно экспортировать данные о курсах различных валют и акций за указанные периоды в виде csv. "
   ]
  },
  {
   "cell_type": "code",
   "execution_count": 224,
   "metadata": {},
   "outputs": [],
   "source": [
    "rates = pd.read_csv('C:\\Data_sets\\ExchangeRates.csv')"
   ]
  },
  {
   "cell_type": "code",
   "execution_count": 225,
   "metadata": {},
   "outputs": [
    {
     "data": {
      "text/html": [
       "<div>\n",
       "<style scoped>\n",
       "    .dataframe tbody tr th:only-of-type {\n",
       "        vertical-align: middle;\n",
       "    }\n",
       "\n",
       "    .dataframe tbody tr th {\n",
       "        vertical-align: top;\n",
       "    }\n",
       "\n",
       "    .dataframe thead th {\n",
       "        text-align: right;\n",
       "    }\n",
       "</style>\n",
       "<table border=\"1\" class=\"dataframe\">\n",
       "  <thead>\n",
       "    <tr style=\"text-align: right;\">\n",
       "      <th></th>\n",
       "      <th>currency</th>\n",
       "      <th>per</th>\n",
       "      <th>date</th>\n",
       "      <th>time</th>\n",
       "      <th>close</th>\n",
       "      <th>vol</th>\n",
       "      <th>proportion</th>\n",
       "    </tr>\n",
       "  </thead>\n",
       "  <tbody>\n",
       "    <tr>\n",
       "      <th>5659</th>\n",
       "      <td>AZN</td>\n",
       "      <td>D</td>\n",
       "      <td>02/12/19</td>\n",
       "      <td>00:00</td>\n",
       "      <td>37.7729</td>\n",
       "      <td>0</td>\n",
       "      <td>1</td>\n",
       "    </tr>\n",
       "    <tr>\n",
       "      <th>5660</th>\n",
       "      <td>AZN</td>\n",
       "      <td>D</td>\n",
       "      <td>03/12/19</td>\n",
       "      <td>00:00</td>\n",
       "      <td>37.9662</td>\n",
       "      <td>0</td>\n",
       "      <td>1</td>\n",
       "    </tr>\n",
       "    <tr>\n",
       "      <th>5661</th>\n",
       "      <td>AZN</td>\n",
       "      <td>D</td>\n",
       "      <td>04/12/19</td>\n",
       "      <td>00:00</td>\n",
       "      <td>37.8073</td>\n",
       "      <td>0</td>\n",
       "      <td>1</td>\n",
       "    </tr>\n",
       "    <tr>\n",
       "      <th>5662</th>\n",
       "      <td>AZN</td>\n",
       "      <td>D</td>\n",
       "      <td>05/12/19</td>\n",
       "      <td>00:00</td>\n",
       "      <td>37.8396</td>\n",
       "      <td>0</td>\n",
       "      <td>1</td>\n",
       "    </tr>\n",
       "    <tr>\n",
       "      <th>5663</th>\n",
       "      <td>AZN</td>\n",
       "      <td>D</td>\n",
       "      <td>06/12/19</td>\n",
       "      <td>00:00</td>\n",
       "      <td>37.6148</td>\n",
       "      <td>0</td>\n",
       "      <td>1</td>\n",
       "    </tr>\n",
       "  </tbody>\n",
       "</table>\n",
       "</div>"
      ],
      "text/plain": [
       "     currency per      date   time    close  vol  proportion\n",
       "5659      AZN   D  02/12/19  00:00  37.7729    0           1\n",
       "5660      AZN   D  03/12/19  00:00  37.9662    0           1\n",
       "5661      AZN   D  04/12/19  00:00  37.8073    0           1\n",
       "5662      AZN   D  05/12/19  00:00  37.8396    0           1\n",
       "5663      AZN   D  06/12/19  00:00  37.6148    0           1"
      ]
     },
     "execution_count": 225,
     "metadata": {},
     "output_type": "execute_result"
    }
   ],
   "source": [
    "rates.tail()"
   ]
  },
  {
   "cell_type": "markdown",
   "metadata": {},
   "source": [
    "Создайте новый DataFrame из скачанного файла. В полученной таблице нас будут интересовать столбцы:"
   ]
  },
  {
   "cell_type": "code",
   "execution_count": 226,
   "metadata": {},
   "outputs": [
    {
     "data": {
      "text/html": [
       "<div>\n",
       "<style scoped>\n",
       "    .dataframe tbody tr th:only-of-type {\n",
       "        vertical-align: middle;\n",
       "    }\n",
       "\n",
       "    .dataframe tbody tr th {\n",
       "        vertical-align: top;\n",
       "    }\n",
       "\n",
       "    .dataframe thead th {\n",
       "        text-align: right;\n",
       "    }\n",
       "</style>\n",
       "<table border=\"1\" class=\"dataframe\">\n",
       "  <thead>\n",
       "    <tr style=\"text-align: right;\">\n",
       "      <th></th>\n",
       "      <th>currency</th>\n",
       "      <th>date</th>\n",
       "      <th>proportion</th>\n",
       "      <th>close</th>\n",
       "    </tr>\n",
       "  </thead>\n",
       "  <tbody>\n",
       "    <tr>\n",
       "      <th>0</th>\n",
       "      <td>USD</td>\n",
       "      <td>29/12/17</td>\n",
       "      <td>1</td>\n",
       "      <td>57.6291</td>\n",
       "    </tr>\n",
       "    <tr>\n",
       "      <th>1</th>\n",
       "      <td>USD</td>\n",
       "      <td>30/12/17</td>\n",
       "      <td>1</td>\n",
       "      <td>57.6002</td>\n",
       "    </tr>\n",
       "    <tr>\n",
       "      <th>2</th>\n",
       "      <td>USD</td>\n",
       "      <td>31/12/17</td>\n",
       "      <td>1</td>\n",
       "      <td>57.6002</td>\n",
       "    </tr>\n",
       "    <tr>\n",
       "      <th>3</th>\n",
       "      <td>USD</td>\n",
       "      <td>01/01/18</td>\n",
       "      <td>1</td>\n",
       "      <td>57.6002</td>\n",
       "    </tr>\n",
       "    <tr>\n",
       "      <th>4</th>\n",
       "      <td>USD</td>\n",
       "      <td>02/01/18</td>\n",
       "      <td>1</td>\n",
       "      <td>57.6002</td>\n",
       "    </tr>\n",
       "  </tbody>\n",
       "</table>\n",
       "</div>"
      ],
      "text/plain": [
       "  currency      date  proportion    close\n",
       "0      USD  29/12/17           1  57.6291\n",
       "1      USD  30/12/17           1  57.6002\n",
       "2      USD  31/12/17           1  57.6002\n",
       "3      USD  01/01/18           1  57.6002\n",
       "4      USD  02/01/18           1  57.6002"
      ]
     },
     "execution_count": 226,
     "metadata": {},
     "output_type": "execute_result"
    }
   ],
   "source": [
    "rates_df = rates[['currency','date','proportion','close']]\n",
    "rates_df.head()\n"
   ]
  },
  {
   "cell_type": "code",
   "execution_count": 227,
   "metadata": {},
   "outputs": [
    {
     "data": {
      "text/html": [
       "<div>\n",
       "<style scoped>\n",
       "    .dataframe tbody tr th:only-of-type {\n",
       "        vertical-align: middle;\n",
       "    }\n",
       "\n",
       "    .dataframe tbody tr th {\n",
       "        vertical-align: top;\n",
       "    }\n",
       "\n",
       "    .dataframe thead th {\n",
       "        text-align: right;\n",
       "    }\n",
       "</style>\n",
       "<table border=\"1\" class=\"dataframe\">\n",
       "  <thead>\n",
       "    <tr style=\"text-align: right;\">\n",
       "      <th></th>\n",
       "      <th>ЗП</th>\n",
       "      <th>Ищет работу на должность:</th>\n",
       "      <th>Занятость</th>\n",
       "      <th>График</th>\n",
       "      <th>Опыт работы</th>\n",
       "      <th>Последнее/нынешнее место работы</th>\n",
       "      <th>Последняя/нынешняя должность</th>\n",
       "      <th>Обновление резюме</th>\n",
       "      <th>Авто</th>\n",
       "      <th>Образование</th>\n",
       "      <th>...</th>\n",
       "      <th>проектная работа</th>\n",
       "      <th>стажировка</th>\n",
       "      <th>волонтерство</th>\n",
       "      <th>частичная занятость</th>\n",
       "      <th>полная занятость</th>\n",
       "      <th>гибкий график</th>\n",
       "      <th>полный день</th>\n",
       "      <th>сменный график</th>\n",
       "      <th>вахтовый метод</th>\n",
       "      <th>удаленная работа</th>\n",
       "    </tr>\n",
       "  </thead>\n",
       "  <tbody>\n",
       "    <tr>\n",
       "      <th>44739</th>\n",
       "      <td>50000 руб.</td>\n",
       "      <td>Финансист, аналитик, экономист, бухгалтер, мен...</td>\n",
       "      <td>полная занятость</td>\n",
       "      <td>полный день, удаленная работа</td>\n",
       "      <td>Опыт работы 7 лет 7 месяцев  Финансист, аналит...</td>\n",
       "      <td>ООО \"IAS\" (независимый участник объединения Ru...</td>\n",
       "      <td>Руководитель субгруппы</td>\n",
       "      <td>22.04.2019 12:32</td>\n",
       "      <td>Не указано</td>\n",
       "      <td>высшее</td>\n",
       "      <td>...</td>\n",
       "      <td>False</td>\n",
       "      <td>False</td>\n",
       "      <td>False</td>\n",
       "      <td>False</td>\n",
       "      <td>True</td>\n",
       "      <td>False</td>\n",
       "      <td>True</td>\n",
       "      <td>False</td>\n",
       "      <td>False</td>\n",
       "      <td>True</td>\n",
       "    </tr>\n",
       "    <tr>\n",
       "      <th>44740</th>\n",
       "      <td>39000 руб.</td>\n",
       "      <td>Системный администратор, IT-специалист</td>\n",
       "      <td>проектная работа, частичная занятость, полная ...</td>\n",
       "      <td>удаленная работа, гибкий график, полный день, ...</td>\n",
       "      <td>Опыт работы 7 лет  Системный администратор, IT...</td>\n",
       "      <td>ИП Пестрецов</td>\n",
       "      <td>Предприниматель</td>\n",
       "      <td>22.04.2019 13:11</td>\n",
       "      <td>Не указано</td>\n",
       "      <td>высшее</td>\n",
       "      <td>...</td>\n",
       "      <td>True</td>\n",
       "      <td>False</td>\n",
       "      <td>False</td>\n",
       "      <td>True</td>\n",
       "      <td>True</td>\n",
       "      <td>True</td>\n",
       "      <td>True</td>\n",
       "      <td>True</td>\n",
       "      <td>False</td>\n",
       "      <td>True</td>\n",
       "    </tr>\n",
       "    <tr>\n",
       "      <th>44741</th>\n",
       "      <td>40000 руб.</td>\n",
       "      <td>Аналитик данных, Математик</td>\n",
       "      <td>полная занятость</td>\n",
       "      <td>полный день, удаленная работа</td>\n",
       "      <td>Опыт работы 21 год 5 месяцев  Январь 1998 — по...</td>\n",
       "      <td>ОАО «ЧМК», Исследовательско-Технологический Це...</td>\n",
       "      <td>Начальник группы аналитики</td>\n",
       "      <td>09.04.2019 05:07</td>\n",
       "      <td>Не указано</td>\n",
       "      <td>высшее</td>\n",
       "      <td>...</td>\n",
       "      <td>False</td>\n",
       "      <td>False</td>\n",
       "      <td>False</td>\n",
       "      <td>False</td>\n",
       "      <td>True</td>\n",
       "      <td>False</td>\n",
       "      <td>True</td>\n",
       "      <td>False</td>\n",
       "      <td>False</td>\n",
       "      <td>True</td>\n",
       "    </tr>\n",
       "    <tr>\n",
       "      <th>44742</th>\n",
       "      <td>20000 руб.</td>\n",
       "      <td>Контент-менеджер</td>\n",
       "      <td>частичная занятость, полная занятость</td>\n",
       "      <td>удаленная работа</td>\n",
       "      <td>Опыт работы 3 года 10 месяцев  Контент-менедже...</td>\n",
       "      <td>IQ-Maxima</td>\n",
       "      <td>Менеджер проектов</td>\n",
       "      <td>26.04.2019 14:25</td>\n",
       "      <td>Имеется собственный автомобиль</td>\n",
       "      <td>высшее</td>\n",
       "      <td>...</td>\n",
       "      <td>False</td>\n",
       "      <td>False</td>\n",
       "      <td>False</td>\n",
       "      <td>True</td>\n",
       "      <td>True</td>\n",
       "      <td>False</td>\n",
       "      <td>False</td>\n",
       "      <td>False</td>\n",
       "      <td>False</td>\n",
       "      <td>True</td>\n",
       "    </tr>\n",
       "    <tr>\n",
       "      <th>44743</th>\n",
       "      <td>120000 руб.</td>\n",
       "      <td>Руководитель проекта</td>\n",
       "      <td>полная занятость</td>\n",
       "      <td>полный день</td>\n",
       "      <td>Опыт работы 15 лет 10 месяцев  Руководитель пр...</td>\n",
       "      <td>ПАО ГК ТНС энерго</td>\n",
       "      <td>Руководитель отдела технической поддержки</td>\n",
       "      <td>05.07.2018 20:15</td>\n",
       "      <td>Не указано</td>\n",
       "      <td>высшее</td>\n",
       "      <td>...</td>\n",
       "      <td>False</td>\n",
       "      <td>False</td>\n",
       "      <td>False</td>\n",
       "      <td>False</td>\n",
       "      <td>True</td>\n",
       "      <td>False</td>\n",
       "      <td>True</td>\n",
       "      <td>False</td>\n",
       "      <td>False</td>\n",
       "      <td>False</td>\n",
       "    </tr>\n",
       "  </tbody>\n",
       "</table>\n",
       "<p>5 rows × 26 columns</p>\n",
       "</div>"
      ],
      "text/plain": [
       "                ЗП                          Ищет работу на должность:  \\\n",
       "44739   50000 руб.  Финансист, аналитик, экономист, бухгалтер, мен...   \n",
       "44740   39000 руб.             Системный администратор, IT-специалист   \n",
       "44741   40000 руб.                         Аналитик данных, Математик   \n",
       "44742   20000 руб.                                   Контент-менеджер   \n",
       "44743  120000 руб.                               Руководитель проекта   \n",
       "\n",
       "                                               Занятость  \\\n",
       "44739                                   полная занятость   \n",
       "44740  проектная работа, частичная занятость, полная ...   \n",
       "44741                                   полная занятость   \n",
       "44742              частичная занятость, полная занятость   \n",
       "44743                                   полная занятость   \n",
       "\n",
       "                                                  График  \\\n",
       "44739                      полный день, удаленная работа   \n",
       "44740  удаленная работа, гибкий график, полный день, ...   \n",
       "44741                      полный день, удаленная работа   \n",
       "44742                                   удаленная работа   \n",
       "44743                                        полный день   \n",
       "\n",
       "                                             Опыт работы  \\\n",
       "44739  Опыт работы 7 лет 7 месяцев  Финансист, аналит...   \n",
       "44740  Опыт работы 7 лет  Системный администратор, IT...   \n",
       "44741  Опыт работы 21 год 5 месяцев  Январь 1998 — по...   \n",
       "44742  Опыт работы 3 года 10 месяцев  Контент-менедже...   \n",
       "44743  Опыт работы 15 лет 10 месяцев  Руководитель пр...   \n",
       "\n",
       "                         Последнее/нынешнее место работы  \\\n",
       "44739  ООО \"IAS\" (независимый участник объединения Ru...   \n",
       "44740                                       ИП Пестрецов   \n",
       "44741  ОАО «ЧМК», Исследовательско-Технологический Це...   \n",
       "44742                                          IQ-Maxima   \n",
       "44743                                  ПАО ГК ТНС энерго   \n",
       "\n",
       "                    Последняя/нынешняя должность Обновление резюме  \\\n",
       "44739                     Руководитель субгруппы  22.04.2019 12:32   \n",
       "44740                            Предприниматель  22.04.2019 13:11   \n",
       "44741                 Начальник группы аналитики  09.04.2019 05:07   \n",
       "44742                          Менеджер проектов  26.04.2019 14:25   \n",
       "44743  Руководитель отдела технической поддержки  05.07.2018 20:15   \n",
       "\n",
       "                                 Авто Образование  ... проектная работа  \\\n",
       "44739                      Не указано      высшее  ...            False   \n",
       "44740                      Не указано      высшее  ...             True   \n",
       "44741                      Не указано      высшее  ...            False   \n",
       "44742  Имеется собственный автомобиль      высшее  ...            False   \n",
       "44743                      Не указано      высшее  ...            False   \n",
       "\n",
       "      стажировка  волонтерство частичная занятость  полная занятость  \\\n",
       "44739      False         False               False              True   \n",
       "44740      False         False                True              True   \n",
       "44741      False         False               False              True   \n",
       "44742      False         False                True              True   \n",
       "44743      False         False               False              True   \n",
       "\n",
       "       гибкий график  полный день  сменный график  вахтовый метод  \\\n",
       "44739          False         True           False           False   \n",
       "44740           True         True            True           False   \n",
       "44741          False         True           False           False   \n",
       "44742          False        False           False           False   \n",
       "44743          False         True           False           False   \n",
       "\n",
       "       удаленная работа  \n",
       "44739              True  \n",
       "44740              True  \n",
       "44741              True  \n",
       "44742              True  \n",
       "44743             False  \n",
       "\n",
       "[5 rows x 26 columns]"
      ]
     },
     "execution_count": 227,
     "metadata": {},
     "output_type": "execute_result"
    }
   ],
   "source": [
    "hh_df.tail()"
   ]
  },
  {
   "cell_type": "markdown",
   "metadata": {},
   "source": [
    "Пропорция — это число, отражающее, скольким единицам валюты соответствует курс в таблице с курсами. Например для казахстанского тенге курс на 20.08.2019 составляет 17.197 руб. за 100 тенге, тогда итоговый курс равен: 17.197 / 100 = 0.17197 руб. за 1 тенге."
   ]
  },
  {
   "cell_type": "markdown",
   "metadata": {},
   "source": [
    "Теперь у нас есть вся необходимая информация для того, чтобы создать признак «ЗП (руб)» — заработная плата в рублях."
   ]
  },
  {
   "cell_type": "code",
   "execution_count": 228,
   "metadata": {},
   "outputs": [
    {
     "name": "stderr",
     "output_type": "stream",
     "text": [
      "C:\\Users\\DS\\AppData\\Local\\Temp\\ipykernel_17900\\3279883356.py:1: UserWarning: Could not infer format, so each element will be parsed individually, falling back to `dateutil`. To ensure parsing is consistent and as-expected, please specify a format.\n",
      "  rates_df['date']=pd.to_datetime(rates_df['date'],dayfirst=True)\n",
      "C:\\Users\\DS\\AppData\\Local\\Temp\\ipykernel_17900\\3279883356.py:1: SettingWithCopyWarning: \n",
      "A value is trying to be set on a copy of a slice from a DataFrame.\n",
      "Try using .loc[row_indexer,col_indexer] = value instead\n",
      "\n",
      "See the caveats in the documentation: https://pandas.pydata.org/pandas-docs/stable/user_guide/indexing.html#returning-a-view-versus-a-copy\n",
      "  rates_df['date']=pd.to_datetime(rates_df['date'],dayfirst=True)\n",
      "C:\\Users\\DS\\AppData\\Local\\Temp\\ipykernel_17900\\3279883356.py:2: SettingWithCopyWarning: \n",
      "A value is trying to be set on a copy of a slice from a DataFrame.\n",
      "Try using .loc[row_indexer,col_indexer] = value instead\n",
      "\n",
      "See the caveats in the documentation: https://pandas.pydata.org/pandas-docs/stable/user_guide/indexing.html#returning-a-view-versus-a-copy\n",
      "  rates_df['date']=rates_df['date'].dt.date\n"
     ]
    },
    {
     "data": {
      "text/html": [
       "<div>\n",
       "<style scoped>\n",
       "    .dataframe tbody tr th:only-of-type {\n",
       "        vertical-align: middle;\n",
       "    }\n",
       "\n",
       "    .dataframe tbody tr th {\n",
       "        vertical-align: top;\n",
       "    }\n",
       "\n",
       "    .dataframe thead th {\n",
       "        text-align: right;\n",
       "    }\n",
       "</style>\n",
       "<table border=\"1\" class=\"dataframe\">\n",
       "  <thead>\n",
       "    <tr style=\"text-align: right;\">\n",
       "      <th></th>\n",
       "      <th>currency</th>\n",
       "      <th>date</th>\n",
       "      <th>proportion</th>\n",
       "      <th>close</th>\n",
       "    </tr>\n",
       "  </thead>\n",
       "  <tbody>\n",
       "    <tr>\n",
       "      <th>0</th>\n",
       "      <td>USD</td>\n",
       "      <td>2017-12-29</td>\n",
       "      <td>1</td>\n",
       "      <td>57.6291</td>\n",
       "    </tr>\n",
       "    <tr>\n",
       "      <th>1</th>\n",
       "      <td>USD</td>\n",
       "      <td>2017-12-30</td>\n",
       "      <td>1</td>\n",
       "      <td>57.6002</td>\n",
       "    </tr>\n",
       "    <tr>\n",
       "      <th>2</th>\n",
       "      <td>USD</td>\n",
       "      <td>2017-12-31</td>\n",
       "      <td>1</td>\n",
       "      <td>57.6002</td>\n",
       "    </tr>\n",
       "    <tr>\n",
       "      <th>3</th>\n",
       "      <td>USD</td>\n",
       "      <td>2018-01-01</td>\n",
       "      <td>1</td>\n",
       "      <td>57.6002</td>\n",
       "    </tr>\n",
       "    <tr>\n",
       "      <th>4</th>\n",
       "      <td>USD</td>\n",
       "      <td>2018-01-02</td>\n",
       "      <td>1</td>\n",
       "      <td>57.6002</td>\n",
       "    </tr>\n",
       "  </tbody>\n",
       "</table>\n",
       "</div>"
      ],
      "text/plain": [
       "  currency        date  proportion    close\n",
       "0      USD  2017-12-29           1  57.6291\n",
       "1      USD  2017-12-30           1  57.6002\n",
       "2      USD  2017-12-31           1  57.6002\n",
       "3      USD  2018-01-01           1  57.6002\n",
       "4      USD  2018-01-02           1  57.6002"
      ]
     },
     "execution_count": 228,
     "metadata": {},
     "output_type": "execute_result"
    }
   ],
   "source": [
    "rates_df['date']=pd.to_datetime(rates_df['date'],dayfirst=True)\n",
    "rates_df['date']=rates_df['date'].dt.date\n",
    "hh_df['Обновление резюме'] = pd.to_datetime(hh_df['Обновление резюме'],dayfirst=True)\n",
    "hh_df['date']=hh_df['Обновление резюме'].dt.date\n",
    "hh_df.head()\n",
    "rates_df.head()"
   ]
  },
  {
   "cell_type": "code",
   "execution_count": 229,
   "metadata": {},
   "outputs": [],
   "source": [
    "hh_df[['zp', 'currency']] = hh_df['ЗП'].str.split(' ', n=1, expand=True)"
   ]
  },
  {
   "cell_type": "code",
   "execution_count": 230,
   "metadata": {},
   "outputs": [
    {
     "data": {
      "text/plain": [
       "currency\n",
       "руб.        42471\n",
       "KZT          1108\n",
       "USD           628\n",
       "бел.руб.      329\n",
       "EUR           106\n",
       "грн.           73\n",
       "сум            20\n",
       "KGS             6\n",
       "AZN             3\n",
       "Name: count, dtype: int64"
      ]
     },
     "execution_count": 230,
     "metadata": {},
     "output_type": "execute_result"
    }
   ],
   "source": [
    "hh_df['currency'].value_counts()"
   ]
  },
  {
   "cell_type": "code",
   "execution_count": 231,
   "metadata": {},
   "outputs": [
    {
     "data": {
      "text/plain": [
       "currency\n",
       "RUB    42471\n",
       "KZT     1108\n",
       "USD      628\n",
       "BYN      329\n",
       "EUR      106\n",
       "UAH       73\n",
       "UZS       20\n",
       "KGS        6\n",
       "AZN        3\n",
       "Name: count, dtype: int64"
      ]
     },
     "execution_count": 231,
     "metadata": {},
     "output_type": "execute_result"
    }
   ],
   "source": [
    "ISO_dict = {'руб.' : 'RUB', 'грн':'UAH','бел.руб.':'BYN', 'грн.':'UAH', 'сум' : 'UZS'}\n",
    "hh_df['currency']=hh_df['currency'].apply(lambda x: ISO_dict[x] if x in ISO_dict.keys() else x)\n",
    "hh_df['currency'].value_counts()"
   ]
  },
  {
   "cell_type": "code",
   "execution_count": 252,
   "metadata": {},
   "outputs": [
    {
     "data": {
      "text/html": [
       "<div>\n",
       "<style scoped>\n",
       "    .dataframe tbody tr th:only-of-type {\n",
       "        vertical-align: middle;\n",
       "    }\n",
       "\n",
       "    .dataframe tbody tr th {\n",
       "        vertical-align: top;\n",
       "    }\n",
       "\n",
       "    .dataframe thead th {\n",
       "        text-align: right;\n",
       "    }\n",
       "</style>\n",
       "<table border=\"1\" class=\"dataframe\">\n",
       "  <thead>\n",
       "    <tr style=\"text-align: right;\">\n",
       "      <th></th>\n",
       "      <th>Ищет работу на должность:</th>\n",
       "      <th>Последнее/нынешнее место работы</th>\n",
       "      <th>Последняя/нынешняя должность</th>\n",
       "      <th>Авто</th>\n",
       "      <th>Образование</th>\n",
       "      <th>Пол</th>\n",
       "      <th>Возраст</th>\n",
       "      <th>Опыт</th>\n",
       "      <th>Город</th>\n",
       "      <th>Готовность к переездам</th>\n",
       "      <th>...</th>\n",
       "      <th>волонтерство</th>\n",
       "      <th>частичная занятость</th>\n",
       "      <th>полная занятость</th>\n",
       "      <th>гибкий график</th>\n",
       "      <th>полный день</th>\n",
       "      <th>сменный график</th>\n",
       "      <th>вахтовый метод</th>\n",
       "      <th>удаленная работа</th>\n",
       "      <th>date</th>\n",
       "      <th>ЗП (руб)</th>\n",
       "    </tr>\n",
       "  </thead>\n",
       "  <tbody>\n",
       "    <tr>\n",
       "      <th>0</th>\n",
       "      <td>Системный администратор</td>\n",
       "      <td>МАОУ \"СОШ № 1 г.Немана\"</td>\n",
       "      <td>Системный администратор</td>\n",
       "      <td>Имеется собственный автомобиль</td>\n",
       "      <td>неоконченное высшее</td>\n",
       "      <td>М</td>\n",
       "      <td>39</td>\n",
       "      <td>202.0</td>\n",
       "      <td>другие</td>\n",
       "      <td>False</td>\n",
       "      <td>...</td>\n",
       "      <td>False</td>\n",
       "      <td>True</td>\n",
       "      <td>True</td>\n",
       "      <td>True</td>\n",
       "      <td>True</td>\n",
       "      <td>True</td>\n",
       "      <td>True</td>\n",
       "      <td>True</td>\n",
       "      <td>2019-04-16</td>\n",
       "      <td>29000.0</td>\n",
       "    </tr>\n",
       "    <tr>\n",
       "      <th>1</th>\n",
       "      <td>Технический писатель</td>\n",
       "      <td>Временный трудовой коллектив</td>\n",
       "      <td>Менеджер проекта, Аналитик, Технический писатель</td>\n",
       "      <td>Не указано</td>\n",
       "      <td>высшее</td>\n",
       "      <td>М</td>\n",
       "      <td>60</td>\n",
       "      <td>233.0</td>\n",
       "      <td>другие</td>\n",
       "      <td>False</td>\n",
       "      <td>...</td>\n",
       "      <td>False</td>\n",
       "      <td>True</td>\n",
       "      <td>True</td>\n",
       "      <td>True</td>\n",
       "      <td>True</td>\n",
       "      <td>True</td>\n",
       "      <td>False</td>\n",
       "      <td>True</td>\n",
       "      <td>2019-04-12</td>\n",
       "      <td>40000.0</td>\n",
       "    </tr>\n",
       "    <tr>\n",
       "      <th>2</th>\n",
       "      <td>Оператор</td>\n",
       "      <td>ПАО Сбербанк</td>\n",
       "      <td>Кассир-операционист</td>\n",
       "      <td>Не указано</td>\n",
       "      <td>среднее специальное</td>\n",
       "      <td>Ж</td>\n",
       "      <td>36</td>\n",
       "      <td>123.0</td>\n",
       "      <td>другие</td>\n",
       "      <td>False</td>\n",
       "      <td>...</td>\n",
       "      <td>False</td>\n",
       "      <td>False</td>\n",
       "      <td>True</td>\n",
       "      <td>False</td>\n",
       "      <td>True</td>\n",
       "      <td>False</td>\n",
       "      <td>False</td>\n",
       "      <td>False</td>\n",
       "      <td>2019-04-16</td>\n",
       "      <td>20000.0</td>\n",
       "    </tr>\n",
       "    <tr>\n",
       "      <th>3</th>\n",
       "      <td>Веб-разработчик (HTML / CSS / JS / PHP / базы ...</td>\n",
       "      <td>OpenSoft</td>\n",
       "      <td>Инженер-программист</td>\n",
       "      <td>Не указано</td>\n",
       "      <td>высшее</td>\n",
       "      <td>М</td>\n",
       "      <td>38</td>\n",
       "      <td>225.0</td>\n",
       "      <td>другие</td>\n",
       "      <td>False</td>\n",
       "      <td>...</td>\n",
       "      <td>False</td>\n",
       "      <td>True</td>\n",
       "      <td>True</td>\n",
       "      <td>True</td>\n",
       "      <td>False</td>\n",
       "      <td>False</td>\n",
       "      <td>False</td>\n",
       "      <td>True</td>\n",
       "      <td>2019-04-08</td>\n",
       "      <td>100000.0</td>\n",
       "    </tr>\n",
       "    <tr>\n",
       "      <th>4</th>\n",
       "      <td>Региональный менеджер по продажам</td>\n",
       "      <td>Мармелад</td>\n",
       "      <td>Менеджер по продажам</td>\n",
       "      <td>Не указано</td>\n",
       "      <td>высшее</td>\n",
       "      <td>Ж</td>\n",
       "      <td>26</td>\n",
       "      <td>67.0</td>\n",
       "      <td>Москва</td>\n",
       "      <td>False</td>\n",
       "      <td>...</td>\n",
       "      <td>False</td>\n",
       "      <td>False</td>\n",
       "      <td>True</td>\n",
       "      <td>False</td>\n",
       "      <td>True</td>\n",
       "      <td>False</td>\n",
       "      <td>False</td>\n",
       "      <td>False</td>\n",
       "      <td>2019-04-22</td>\n",
       "      <td>140000.0</td>\n",
       "    </tr>\n",
       "  </tbody>\n",
       "</table>\n",
       "<p>5 rows × 23 columns</p>\n",
       "</div>"
      ],
      "text/plain": [
       "                           Ищет работу на должность:  \\\n",
       "0                            Системный администратор   \n",
       "1                               Технический писатель   \n",
       "2                                           Оператор   \n",
       "3  Веб-разработчик (HTML / CSS / JS / PHP / базы ...   \n",
       "4                  Региональный менеджер по продажам   \n",
       "\n",
       "  Последнее/нынешнее место работы  \\\n",
       "0         МАОУ \"СОШ № 1 г.Немана\"   \n",
       "1    Временный трудовой коллектив   \n",
       "2                    ПАО Сбербанк   \n",
       "3                        OpenSoft   \n",
       "4                        Мармелад   \n",
       "\n",
       "                       Последняя/нынешняя должность  \\\n",
       "0                           Системный администратор   \n",
       "1  Менеджер проекта, Аналитик, Технический писатель   \n",
       "2                               Кассир-операционист   \n",
       "3                               Инженер-программист   \n",
       "4                              Менеджер по продажам   \n",
       "\n",
       "                             Авто          Образование Пол  Возраст   Опыт  \\\n",
       "0  Имеется собственный автомобиль  неоконченное высшее   М       39  202.0   \n",
       "1                      Не указано               высшее   М       60  233.0   \n",
       "2                      Не указано  среднее специальное   Ж       36  123.0   \n",
       "3                      Не указано               высшее   М       38  225.0   \n",
       "4                      Не указано               высшее   Ж       26   67.0   \n",
       "\n",
       "    Город  Готовность к переездам  ...  волонтерство  частичная занятость  \\\n",
       "0  другие                   False  ...         False                 True   \n",
       "1  другие                   False  ...         False                 True   \n",
       "2  другие                   False  ...         False                False   \n",
       "3  другие                   False  ...         False                 True   \n",
       "4  Москва                   False  ...         False                False   \n",
       "\n",
       "   полная занятость  гибкий график  полный день  сменный график  \\\n",
       "0              True           True         True            True   \n",
       "1              True           True         True            True   \n",
       "2              True          False         True           False   \n",
       "3              True           True        False           False   \n",
       "4              True          False         True           False   \n",
       "\n",
       "   вахтовый метод  удаленная работа        date  ЗП (руб)  \n",
       "0            True              True  2019-04-16   29000.0  \n",
       "1           False              True  2019-04-12   40000.0  \n",
       "2           False             False  2019-04-16   20000.0  \n",
       "3           False              True  2019-04-08  100000.0  \n",
       "4           False             False  2019-04-22  140000.0  \n",
       "\n",
       "[5 rows x 23 columns]"
      ]
     },
     "execution_count": 252,
     "metadata": {},
     "output_type": "execute_result"
    }
   ],
   "source": [
    "merged = hh_df.merge(\n",
    "    rates_df,\n",
    "    left_on = ['currency', 'date'],\n",
    "    right_on = ['currency', 'date',],\n",
    "    how = 'left'\n",
    ")\n",
    "merged['close']=merged['close'].fillna(1)\n",
    "merged['proportion']=merged['proportion'].fillna(1)\n",
    "merged['zp']=merged['zp'].astype('float')\n",
    "merged['ЗП (руб)']=merged['zp']*merged['close']/merged['proportion']\n",
    "merged.head()\n",
    "merged['ЗП (руб)'].median()\n",
    "merged.drop(['ЗП','zp','Опыт работы','Занятость','График','Обновление резюме','close','currency','proportion'],axis=1,inplace=True)\n",
    "merged.rename(columns = {' date ':' обновление резюме', 'Переезд':'Готовность к переездам', 'Командировки':'Готовность к командировкам'}, inplace = True )\n",
    "merged['Возраст']=merged['Возраст'].astype('int64')\n",
    "merged.head()\n"
   ]
  },
  {
   "cell_type": "code",
   "execution_count": 253,
   "metadata": {},
   "outputs": [
    {
     "name": "stdout",
     "output_type": "stream",
     "text": [
      "<class 'pandas.core.frame.DataFrame'>\n",
      "RangeIndex: 44744 entries, 0 to 44743\n",
      "Data columns (total 23 columns):\n",
      " #   Column                           Non-Null Count  Dtype  \n",
      "---  ------                           --------------  -----  \n",
      " 0   Ищет работу на должность:        44744 non-null  object \n",
      " 1   Последнее/нынешнее место работы  44743 non-null  object \n",
      " 2   Последняя/нынешняя должность     44742 non-null  object \n",
      " 3   Авто                             44744 non-null  object \n",
      " 4   Образование                      44744 non-null  object \n",
      " 5   Пол                              44744 non-null  object \n",
      " 6   Возраст                          44744 non-null  int64  \n",
      " 7   Опыт                             44574 non-null  float64\n",
      " 8   Город                            44744 non-null  object \n",
      " 9   Готовность к переездам           44744 non-null  bool   \n",
      " 10  Готовность к командировкам       44744 non-null  bool   \n",
      " 11  проектная работа                 44744 non-null  bool   \n",
      " 12  стажировка                       44744 non-null  bool   \n",
      " 13  волонтерство                     44744 non-null  bool   \n",
      " 14  частичная занятость              44744 non-null  bool   \n",
      " 15  полная занятость                 44744 non-null  bool   \n",
      " 16  гибкий график                    44744 non-null  bool   \n",
      " 17  полный день                      44744 non-null  bool   \n",
      " 18  сменный график                   44744 non-null  bool   \n",
      " 19  вахтовый метод                   44744 non-null  bool   \n",
      " 20  удаленная работа                 44744 non-null  bool   \n",
      " 21  date                             44744 non-null  object \n",
      " 22  ЗП (руб)                         44744 non-null  float64\n",
      "dtypes: bool(12), float64(2), int64(1), object(8)\n",
      "memory usage: 4.3+ MB\n"
     ]
    },
    {
     "data": {
      "text/plain": [
       "Index(['Ищет работу на должность:', 'Последнее/нынешнее место работы',\n",
       "       'Последняя/нынешняя должность', 'Авто', 'Образование', 'Пол', 'Возраст',\n",
       "       'Опыт', 'Город', 'Готовность к переездам', 'Готовность к командировкам',\n",
       "       'проектная работа', 'стажировка', 'волонтерство', 'частичная занятость',\n",
       "       'полная занятость', 'гибкий график', 'полный день', 'сменный график',\n",
       "       'вахтовый метод', 'удаленная работа', 'date', 'ЗП (руб)'],\n",
       "      dtype='object')"
      ]
     },
     "execution_count": 253,
     "metadata": {},
     "output_type": "execute_result"
    }
   ],
   "source": [
    "merged.info()"
   ]
  }
 ],
 "metadata": {
  "kernelspec": {
   "display_name": "Python 3",
   "language": "python",
   "name": "python3"
  },
  "language_info": {
   "codemirror_mode": {
    "name": "ipython",
    "version": 3
   },
   "file_extension": ".py",
   "mimetype": "text/x-python",
   "name": "python",
   "nbconvert_exporter": "python",
   "pygments_lexer": "ipython3",
   "version": "3.9.10"
  }
 },
 "nbformat": 4,
 "nbformat_minor": 2
}
